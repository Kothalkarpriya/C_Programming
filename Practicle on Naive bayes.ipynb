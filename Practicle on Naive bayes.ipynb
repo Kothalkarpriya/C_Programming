{
  "nbformat": 4,
  "nbformat_minor": 0,
  "metadata": {
    "colab": {
      "name": "Untitled",
      "provenance": [],
      "collapsed_sections": [],
      "authorship_tag": "ABX9TyMggwyky7znqpeC0kzH04z8",
      "include_colab_link": true
    },
    "kernelspec": {
      "name": "python3",
      "display_name": "Python 3"
    }
  },
  "cells": [
    {
      "cell_type": "markdown",
      "metadata": {
        "id": "view-in-github",
        "colab_type": "text"
      },
      "source": [
        "<a href=\"https://colab.research.google.com/github/Kothalkarpriya/C_Programming/blob/master/Practicle%20on%20Naive%20bayes.ipynb\" target=\"_parent\"><img src=\"https://colab.research.google.com/assets/colab-badge.svg\" alt=\"Open In Colab\"/></a>"
      ]
    },
    {
      "cell_type": "code",
      "metadata": {
        "id": "yeR-_jml9_TG"
      },
      "source": [
        "# Assigning features and label variables\n",
        "#features\n",
        "weather=['Sunny','Sunny','Overcast','Rainy','Rainy','Rainy','Overcast','Sunny','Sunny',\n",
        "'Rainy','Sunny','Overcast','Overcast','Rainy']\n",
        "\n",
        "temp=['Hot','Hot','Hot','Mild','Cool','Cool','Cool','Mild','Cool','Mild','Mild','Mild','Hot','Mild']\n",
        "#target variables\n",
        "play=['No','No','Yes','Yes','Yes','No','Yes','No','Yes','Yes','Yes','Yes','Yes','No']"
      ],
      "execution_count": null,
      "outputs": []
    },
    {
      "cell_type": "code",
      "metadata": {
        "id": "7mXi7K8e_Pn7",
        "outputId": "76e1ae01-e465-4f4d-f194-9c42f44dac04",
        "colab": {
          "base_uri": "https://localhost:8080/",
          "height": 33
        }
      },
      "source": [
        "#libraries\n",
        "import numpy as np\n",
        "import pandas as pd\n",
        "\n",
        "a = [[1,2,3],[4,5,6]]\n",
        "np.shape(a)\n"
      ],
      "execution_count": null,
      "outputs": [
        {
          "output_type": "execute_result",
          "data": {
            "text/plain": [
              "(2, 3)"
            ]
          },
          "metadata": {
            "tags": []
          },
          "execution_count": 8
        }
      ]
    },
    {
      "cell_type": "code",
      "metadata": {
        "id": "Nf33ZofSCM1g",
        "outputId": "239df5a5-6608-4687-e607-90656f9318eb",
        "colab": {
          "base_uri": "https://localhost:8080/",
          "height": 300
        }
      },
      "source": [
        "feature = pd.DataFrame()\n",
        "feature['weather'] = weather\n",
        "feature['temp'] = temp\n",
        "print(feature)\n",
        "\n",
        "#encoding\n",
        "feature['weather'] = pd.Categorical(feature['weather'])\n",
        "#get the categorical code\n",
        "feature['weather'] = feature.weather.cat.codes\n",
        "\n",
        "#strings are converted into categorical values\n",
        "feature['temp'] = pd.Categorical(feature['temp'])\n",
        "#assigns \n",
        "feature['temp'] = feature.temp.cat.codes"
      ],
      "execution_count": null,
      "outputs": [
        {
          "output_type": "stream",
          "text": [
            "    weather  temp\n",
            "0         2     1\n",
            "1         2     1\n",
            "2         0     1\n",
            "3         1     2\n",
            "4         1     0\n",
            "5         1     0\n",
            "6         0     0\n",
            "7         2     2\n",
            "8         2     0\n",
            "9         1     2\n",
            "10        2     2\n",
            "11        0     2\n",
            "12        0     1\n",
            "13        1     2\n",
            "['Hot', 'Hot', 'Hot', 'Mild', 'Cool', 'Cool', 'Cool', 'Mild', 'Cool', 'Mild', 'Mild', 'Mild', 'Hot', 'Mild']\n"
          ],
          "name": "stdout"
        },
        {
          "output_type": "execute_result",
          "data": {
            "text/plain": [
              "(14, 2)"
            ]
          },
          "metadata": {
            "tags": []
          },
          "execution_count": 35
        }
      ]
    },
    {
      "cell_type": "code",
      "metadata": {
        "id": "w1Go7RCqJG9L"
      },
      "source": [
        "print(feature)\n",
        "print(temp)\n",
        "\n",
        "np.shape(feature)"
      ],
      "execution_count": null,
      "outputs": []
    },
    {
      "cell_type": "code",
      "metadata": {
        "id": "q_w4zH-PCS3o",
        "outputId": "9d64fa5f-aff8-4bc5-e9d9-cf429ec7cdd4",
        "colab": {
          "base_uri": "https://localhost:8080/",
          "height": 33
        }
      },
      "source": [
        "from sklearn.naive_bayes import GaussianNB\n",
        "\n",
        "#building the classifiers object\n",
        "model_NB = GaussianNB()\n",
        "\n",
        "#training model\n",
        "model_NB.fit(feature,play)"
      ],
      "execution_count": null,
      "outputs": [
        {
          "output_type": "execute_result",
          "data": {
            "text/plain": [
              "GaussianNB(priors=None, var_smoothing=1e-09)"
            ]
          },
          "metadata": {
            "tags": []
          },
          "execution_count": 36
        }
      ]
    },
    {
      "cell_type": "code",
      "metadata": {
        "id": "EeiDXEPLGDmt",
        "outputId": "435ec43c-a6f5-4cab-b837-2f6520c24b03",
        "colab": {
          "base_uri": "https://localhost:8080/",
          "height": 33
        }
      },
      "source": [
        "#use the model for prediction purpose\n",
        "#weather 0 = Overcast , temp 0 = mild\n",
        "model_NB.predict([[0,2]])\n"
      ],
      "execution_count": null,
      "outputs": [
        {
          "output_type": "execute_result",
          "data": {
            "text/plain": [
              "array(['Yes'], dtype='<U3')"
            ]
          },
          "metadata": {
            "tags": []
          },
          "execution_count": 37
        }
      ]
    },
    {
      "cell_type": "code",
      "metadata": {
        "id": "jCfeCSi0FuFa",
        "outputId": "2babca2b-3897-40e3-ab86-f03276ae5b3f",
        "colab": {
          "base_uri": "https://localhost:8080/",
          "height": 67
        }
      },
      "source": [
        "#we are drawing confusion matrix\n",
        "from sklearn.metrics import confusion_matrix\n",
        "\n",
        "y_pred = model_NB.predict(feature)\n",
        "\n",
        "print(y_pred)\n",
        "print(play)"
      ],
      "execution_count": null,
      "outputs": [
        {
          "output_type": "stream",
          "text": [
            "['No' 'No' 'Yes' 'Yes' 'Yes' 'Yes' 'Yes' 'No' 'No' 'Yes' 'No' 'Yes' 'Yes'\n",
            " 'Yes']\n",
            "['No', 'No', 'Yes', 'Yes', 'Yes', 'No', 'Yes', 'No', 'Yes', 'Yes', 'Yes', 'Yes', 'Yes', 'No']\n"
          ],
          "name": "stdout"
        }
      ]
    },
    {
      "cell_type": "code",
      "metadata": {
        "id": "vZ4WWGrgL0I1"
      },
      "source": [
        "result = pd.DataFrame()\n",
        "result ['Y_Actu'] = play\n",
        "result['Y_Actu'] = y_pred"
      ],
      "execution_count": null,
      "outputs": []
    },
    {
      "cell_type": "code",
      "metadata": {
        "id": "5j-P3HldLNz2",
        "outputId": "dea4dd5e-49c1-4042-9636-dc2b85947045",
        "colab": {
          "base_uri": "https://localhost:8080/",
          "height": 50
        }
      },
      "source": [
        "CM= confusion_matrix(play,y_pred)\n",
        "print(CM)"
      ],
      "execution_count": null,
      "outputs": [
        {
          "output_type": "stream",
          "text": [
            "[[3 2]\n",
            " [2 7]]\n"
          ],
          "name": "stdout"
        }
      ]
    },
    {
      "cell_type": "code",
      "metadata": {
        "id": "AduiDXw-LhnY"
      },
      "source": [
        ""
      ],
      "execution_count": null,
      "outputs": []
    }
  ]
}